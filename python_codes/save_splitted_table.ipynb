{
 "cells": [
  {
   "cell_type": "code",
   "execution_count": 18,
   "id": "2963c2ce",
   "metadata": {},
   "outputs": [],
   "source": [
    "import pandas as pd\n",
    "import matplotlib.pyplot as plt"
   ]
  },
  {
   "cell_type": "code",
   "execution_count": 19,
   "id": "326aeb3f",
   "metadata": {},
   "outputs": [],
   "source": [
    "df_fraud_all = pd.read_csv(\"Fraud_Detection.csv\")"
   ]
  },
  {
   "cell_type": "markdown",
   "id": "275147ae",
   "metadata": {},
   "source": [
    "fraud_all 제대로 불러오기 했는지 검사"
   ]
  },
  {
   "cell_type": "code",
   "execution_count": 20,
   "id": "36a31efc",
   "metadata": {},
   "outputs": [
    {
     "data": {
      "text/html": [
       "<div>\n",
       "<style scoped>\n",
       "    .dataframe tbody tr th:only-of-type {\n",
       "        vertical-align: middle;\n",
       "    }\n",
       "\n",
       "    .dataframe tbody tr th {\n",
       "        vertical-align: top;\n",
       "    }\n",
       "\n",
       "    .dataframe thead th {\n",
       "        text-align: right;\n",
       "    }\n",
       "</style>\n",
       "<table border=\"1\" class=\"dataframe\">\n",
       "  <thead>\n",
       "    <tr style=\"text-align: right;\">\n",
       "      <th></th>\n",
       "      <th>trans_date_trans_time</th>\n",
       "      <th>cc_num</th>\n",
       "      <th>merchant</th>\n",
       "      <th>category</th>\n",
       "      <th>amt</th>\n",
       "      <th>first</th>\n",
       "      <th>last</th>\n",
       "      <th>gender</th>\n",
       "      <th>street</th>\n",
       "      <th>city</th>\n",
       "      <th>...</th>\n",
       "      <th>lat</th>\n",
       "      <th>long</th>\n",
       "      <th>city_pop</th>\n",
       "      <th>job</th>\n",
       "      <th>dob</th>\n",
       "      <th>trans_num</th>\n",
       "      <th>unix_time</th>\n",
       "      <th>merch_lat</th>\n",
       "      <th>merch_long</th>\n",
       "      <th>is_fraud</th>\n",
       "    </tr>\n",
       "  </thead>\n",
       "  <tbody>\n",
       "    <tr>\n",
       "      <th>0</th>\n",
       "      <td>1/1/2019 0:00</td>\n",
       "      <td>2.703190e+15</td>\n",
       "      <td>fraud_Rippin, Kub and Mann</td>\n",
       "      <td>misc_net</td>\n",
       "      <td>4.97</td>\n",
       "      <td>Jennifer</td>\n",
       "      <td>Banks</td>\n",
       "      <td>F</td>\n",
       "      <td>561 Perry Cove</td>\n",
       "      <td>Moravian Falls</td>\n",
       "      <td>...</td>\n",
       "      <td>36.0788</td>\n",
       "      <td>-81.1781</td>\n",
       "      <td>3495</td>\n",
       "      <td>Psychologist, counselling</td>\n",
       "      <td>3/9/1988</td>\n",
       "      <td>0b242abb623afc578575680df30655b9</td>\n",
       "      <td>1325376018</td>\n",
       "      <td>36.011293</td>\n",
       "      <td>-82.048315</td>\n",
       "      <td>0</td>\n",
       "    </tr>\n",
       "    <tr>\n",
       "      <th>1</th>\n",
       "      <td>1/1/2019 0:00</td>\n",
       "      <td>6.304230e+11</td>\n",
       "      <td>fraud_Heller, Gutmann and Zieme</td>\n",
       "      <td>grocery_pos</td>\n",
       "      <td>107.23</td>\n",
       "      <td>Stephanie</td>\n",
       "      <td>Gill</td>\n",
       "      <td>F</td>\n",
       "      <td>43039 Riley Greens Suite 393</td>\n",
       "      <td>Orient</td>\n",
       "      <td>...</td>\n",
       "      <td>48.8878</td>\n",
       "      <td>-118.2105</td>\n",
       "      <td>149</td>\n",
       "      <td>Special educational needs teacher</td>\n",
       "      <td>6/21/1978</td>\n",
       "      <td>1f76529f8574734946361c461b024d99</td>\n",
       "      <td>1325376044</td>\n",
       "      <td>49.159047</td>\n",
       "      <td>-118.186462</td>\n",
       "      <td>0</td>\n",
       "    </tr>\n",
       "  </tbody>\n",
       "</table>\n",
       "<p>2 rows × 22 columns</p>\n",
       "</div>"
      ],
      "text/plain": [
       "  trans_date_trans_time        cc_num                         merchant  \\\n",
       "0         1/1/2019 0:00  2.703190e+15       fraud_Rippin, Kub and Mann   \n",
       "1         1/1/2019 0:00  6.304230e+11  fraud_Heller, Gutmann and Zieme   \n",
       "\n",
       "      category     amt      first   last gender                        street  \\\n",
       "0     misc_net    4.97   Jennifer  Banks      F                561 Perry Cove   \n",
       "1  grocery_pos  107.23  Stephanie   Gill      F  43039 Riley Greens Suite 393   \n",
       "\n",
       "             city  ...      lat      long  city_pop  \\\n",
       "0  Moravian Falls  ...  36.0788  -81.1781      3495   \n",
       "1          Orient  ...  48.8878 -118.2105       149   \n",
       "\n",
       "                                 job        dob  \\\n",
       "0          Psychologist, counselling   3/9/1988   \n",
       "1  Special educational needs teacher  6/21/1978   \n",
       "\n",
       "                          trans_num   unix_time  merch_lat  merch_long  \\\n",
       "0  0b242abb623afc578575680df30655b9  1325376018  36.011293  -82.048315   \n",
       "1  1f76529f8574734946361c461b024d99  1325376044  49.159047 -118.186462   \n",
       "\n",
       "   is_fraud  \n",
       "0         0  \n",
       "1         0  \n",
       "\n",
       "[2 rows x 22 columns]"
      ]
     },
     "execution_count": 20,
     "metadata": {},
     "output_type": "execute_result"
    }
   ],
   "source": [
    "df_fraud_all.head(2)"
   ]
  },
  {
   "cell_type": "code",
   "execution_count": 21,
   "id": "29d665f3",
   "metadata": {},
   "outputs": [
    {
     "data": {
      "text/plain": [
       "0    1596143\n",
       "1       8151\n",
       "Name: is_fraud, dtype: int64"
      ]
     },
     "execution_count": 21,
     "metadata": {},
     "output_type": "execute_result"
    }
   ],
   "source": [
    "df_fraud_all[\"is_fraud\"].value_counts()"
   ]
  },
  {
   "cell_type": "code",
   "execution_count": 22,
   "id": "60763461",
   "metadata": {},
   "outputs": [
    {
     "name": "stdout",
     "output_type": "stream",
     "text": [
      "fraud의 비율은 0.005080739565191917(0.508074%)입니다.\n"
     ]
    }
   ],
   "source": [
    "not_fraud_count = df_fraud_all[\"is_fraud\"].value_counts()[0]\n",
    "fraud_count = df_fraud_all[\"is_fraud\"].value_counts()[1]\n",
    "fraud_ratio = fraud_count / (not_fraud_count + fraud_count)\n",
    "print(\"fraud의 비율은 \"+str(fraud_ratio)+\"(%f%%)입니다.\" %(fraud_ratio*100))"
   ]
  },
  {
   "cell_type": "markdown",
   "id": "64d2681b",
   "metadata": {},
   "source": [
    "0.5%이니 995:5 비율로 데이터가 존재한다.\n",
    "비율을 0.2로 맞추고 싶으면 20:5로 줄인다.\n",
    "따라서 not_fraud데이터 갯수에서 20/995가 내가 실제로 3개의 데이터 셋으로 나눌 대상 크기가 된다."
   ]
  },
  {
   "cell_type": "code",
   "execution_count": 29,
   "id": "697f8af0",
   "metadata": {},
   "outputs": [
    {
     "data": {
      "text/plain": [
       "0    32083\n",
       "1     8151\n",
       "Name: is_fraud, dtype: int64"
      ]
     },
     "execution_count": 29,
     "metadata": {},
     "output_type": "execute_result"
    }
   ],
   "source": [
    "df_not_fraud=df_fraud_all[df_fraud_all[\"is_fraud\"] == 0]\n",
    "\n",
    "df_not_fraud_reduced = df_not_fraud.sample(frac = 20/995)\n",
    "\n",
    "df_fraud=df_fraud_all[df_fraud_all[\"is_fraud\"] == 1]\n",
    "\n",
    "df_fraud_all_reduced = pd.concat([df_not_fraud_reduced, df_fraud])\n",
    "\n",
    "#비율을 맞춘 fraud 데이터프레임의 갯수 확인\n",
    "df_fraud_all_reduced[\"is_fraud\"].value_counts()"
   ]
  },
  {
   "cell_type": "code",
   "execution_count": 30,
   "id": "79ae3284",
   "metadata": {},
   "outputs": [
    {
     "name": "stdout",
     "output_type": "stream",
     "text": [
      "fraud의 비율은 0.20258984938112046(20.258985%)입니다.\n"
     ]
    }
   ],
   "source": [
    "not_fraud_count = df_fraud_all_reduced[\"is_fraud\"].value_counts()[0]\n",
    "fraud_count = df_fraud_all_reduced[\"is_fraud\"].value_counts()[1]\n",
    "fraud_ratio = fraud_count / (not_fraud_count + fraud_count)\n",
    "print(\"fraud의 비율은 \"+str(fraud_ratio)+\"(%f%%)입니다.\" %(fraud_ratio*100))\n",
    "\n",
    "#df_fraud_all_reduced 데이터프레임을 사용하도록 한다."
   ]
  },
  {
   "cell_type": "markdown",
   "id": "7bb64674",
   "metadata": {},
   "source": [
    "이제 DF를 train, validation, test 로 나눈다. 보통 6:2:2로 나눈다."
   ]
  },
  {
   "cell_type": "code",
   "execution_count": 45,
   "id": "701c49d2",
   "metadata": {},
   "outputs": [
    {
     "name": "stdout",
     "output_type": "stream",
     "text": [
      "(40234, 21)\n",
      "(40234,)\n",
      "(24140, 21)\n",
      "(24140,)\n",
      "(8047, 21)\n",
      "(8047,)\n",
      "(8047, 21)\n",
      "(8047,)\n"
     ]
    }
   ],
   "source": [
    "from sklearn.model_selection import train_test_split\n",
    "\n",
    "df_fraud_all_reduced_y = df_fraud_all_reduced[\"is_fraud\"]\n",
    "df_fraud_all_reduced_x = df_fraud_all_reduced.drop(columns=[\"is_fraud\"], inplace=False)\n",
    "\n",
    "print(df_fraud_all_reduced_x.shape)\n",
    "print(df_fraud_all_reduced_y.shape)\n",
    "\n",
    "df_train2_x, df_test_x, df_train2_y, df_test_y = train_test_split(df_fraud_all_reduced_x, df_fraud_all_reduced_y, train_size = 0.8, random_state = 42, shuffle = True, stratify=df_fraud_all_reduced_y)\n",
    "df_train_x, df_val_x, df_train_y, df_val_y = train_test_split(df_train2_x, df_train2_y, train_size = 0.75, random_state = 42, shuffle = True, stratify=df_train2_y)\n",
    "\n",
    "print(df_train_x.shape)\n",
    "print(df_train_y.shape)\n",
    "print(df_val_x.shape)\n",
    "print(df_val_y.shape)\n",
    "print(df_test_x.shape)\n",
    "print(df_test_y.shape)\n",
    "\n",
    "df_train_x.to_csv(\"Fraud_Detection_train_features.csv\")\n",
    "df_train_y.to_csv(\"Fraud_Detection_train_target.csv\")\n",
    "df_val_x.to_csv(\"Fraud_Detection_validation_features.csv\")\n",
    "df_val_y.to_csv(\"Fraud_Detection_validation_target.csv\")\n",
    "df_test_x.to_csv(\"Fraud_Detection_test_features.csv\")\n",
    "df_test_y.to_csv(\"Fraud_Detection_test_target.csv\")\n",
    "\n",
    "#df_train_x -> 훈련 데이터의 feature테이블\n",
    "#df_train_y -> 훈련 데이터의 target배열\n",
    "#df_val_x -> 검증 데이터의 feature테이블\n",
    "#df_val_y -> 검증 데이터의 target배열\n",
    "#df_test_x -> 시험 데이터의 feature테이블\n",
    "#df_test_y -> 시험 데이터의 target배열"
   ]
  }
 ],
 "metadata": {
  "kernelspec": {
   "display_name": "Python 3 (ipykernel)",
   "language": "python",
   "name": "python3"
  },
  "language_info": {
   "codemirror_mode": {
    "name": "ipython",
    "version": 3
   },
   "file_extension": ".py",
   "mimetype": "text/x-python",
   "name": "python",
   "nbconvert_exporter": "python",
   "pygments_lexer": "ipython3",
   "version": "3.11.4"
  }
 },
 "nbformat": 4,
 "nbformat_minor": 5
}
