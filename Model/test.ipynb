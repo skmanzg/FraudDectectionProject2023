{
 "cells": [
  {
   "cell_type": "code",
   "execution_count": 2,
   "id": "1e5863b4",
   "metadata": {},
   "outputs": [],
   "source": [
    "import pandas as pd\n",
    "import numpy as np\n",
    "from sklearn.neighbors import KNeighborsClassifier\n",
    "from sklearn.preprocessing import MinMaxScaler"
   ]
  },
  {
   "cell_type": "code",
   "execution_count": 6,
   "id": "aa4a4916",
   "metadata": {},
   "outputs": [
    {
     "name": "stdout",
     "output_type": "stream",
     "text": [
      "[1 2 2]\n"
     ]
    },
    {
     "data": {
      "text/html": [
       "<div>\n",
       "<style scoped>\n",
       "    .dataframe tbody tr th:only-of-type {\n",
       "        vertical-align: middle;\n",
       "    }\n",
       "\n",
       "    .dataframe tbody tr th {\n",
       "        vertical-align: top;\n",
       "    }\n",
       "\n",
       "    .dataframe thead th {\n",
       "        text-align: right;\n",
       "    }\n",
       "</style>\n",
       "<table border=\"1\" class=\"dataframe\">\n",
       "  <thead>\n",
       "    <tr style=\"text-align: right;\">\n",
       "      <th></th>\n",
       "      <th>a</th>\n",
       "      <th>b</th>\n",
       "      <th>c</th>\n",
       "      <th>d</th>\n",
       "    </tr>\n",
       "  </thead>\n",
       "  <tbody>\n",
       "    <tr>\n",
       "      <th>0</th>\n",
       "      <td>0.0</td>\n",
       "      <td>0.0</td>\n",
       "      <td>0.000000</td>\n",
       "      <td>0.5</td>\n",
       "    </tr>\n",
       "    <tr>\n",
       "      <th>1</th>\n",
       "      <td>1.0</td>\n",
       "      <td>0.4</td>\n",
       "      <td>0.333333</td>\n",
       "      <td>1.0</td>\n",
       "    </tr>\n",
       "    <tr>\n",
       "      <th>2</th>\n",
       "      <td>1.0</td>\n",
       "      <td>1.0</td>\n",
       "      <td>1.000000</td>\n",
       "      <td>0.0</td>\n",
       "    </tr>\n",
       "  </tbody>\n",
       "</table>\n",
       "</div>"
      ],
      "text/plain": [
       "     a    b         c    d\n",
       "0  0.0  0.0  0.000000  0.5\n",
       "1  1.0  0.4  0.333333  1.0\n",
       "2  1.0  1.0  1.000000  0.0"
      ]
     },
     "execution_count": 6,
     "metadata": {},
     "output_type": "execute_result"
    }
   ],
   "source": [
    "list1 = [\n",
    "    [1,2,3,4],\n",
    "    [2,4,5,6],\n",
    "    [2,7,9,2]\n",
    "]\n",
    "\n",
    "arr1 = np.array(list1)\n",
    "\n",
    "print(arr1[:,0])\n",
    "\n",
    "df = pd.DataFrame(list1, columns=['a', 'b', 'c', 'd'])\n",
    "\n",
    "MMscaler = MinMaxScaler()\n",
    "MMscaler.fit(df)\n",
    "df_trans = MMscaler.transform(df)\n",
    "\n",
    "df_trans = pd.DataFrame(df_trans, columns=['a', 'b', 'c', 'd'])\n",
    "df_trans\n",
    "\n",
    "# df_temp = df_trans.head(1)"
   ]
  },
  {
   "cell_type": "code",
   "execution_count": 4,
   "id": "6056d5e5",
   "metadata": {},
   "outputs": [
    {
     "name": "stdout",
     "output_type": "stream",
     "text": [
      "[[1]\n",
      " [2]\n",
      " [3]\n",
      " [4]]\n"
     ]
    },
    {
     "data": {
      "text/plain": [
       "array([[1, 2, 3, 4],\n",
       "       [5, 6, 7, 8]])"
      ]
     },
     "execution_count": 4,
     "metadata": {},
     "output_type": "execute_result"
    }
   ],
   "source": [
    "arr2 = np.array([[1],[2],[3],[4]])\n",
    "print(arr2)\n",
    "arr2 = np.append(arr2, [[5],[6],[7],[8]], axis = 1)\n",
    "arr2.T"
   ]
  },
  {
   "cell_type": "code",
   "execution_count": 5,
   "id": "2c971c47",
   "metadata": {},
   "outputs": [
    {
     "data": {
      "text/plain": [
       "[1, 2, 2]"
      ]
     },
     "execution_count": 5,
     "metadata": {},
     "output_type": "execute_result"
    }
   ],
   "source": [
    "df2 = pd.DataFrame(list1, columns=['a', 'b', 'c', 'd'])\n",
    "lili = df2[\"a\"].to_list()\n",
    "lili"
   ]
  },
  {
   "cell_type": "code",
   "execution_count": 6,
   "id": "4a047467",
   "metadata": {},
   "outputs": [
    {
     "data": {
      "text/plain": [
       "array([1, 4, 6])"
      ]
     },
     "execution_count": 6,
     "metadata": {},
     "output_type": "execute_result"
    }
   ],
   "source": [
    "arr1 = np.array([[1]])\n",
    "arr2 = np.array([[4]])\n",
    "arr3 = np.array([[6]])\n",
    "\n",
    "arr_total = arr1\n",
    "arr_total = np.append(arr_total, arr2)\n",
    "arr_total = np.append(arr_total, arr3)\n",
    "arr_total"
   ]
  },
  {
   "cell_type": "code",
   "execution_count": 7,
   "id": "fcf2e439",
   "metadata": {},
   "outputs": [
    {
     "name": "stdout",
     "output_type": "stream",
     "text": [
      "[1 2]\n"
     ]
    },
    {
     "data": {
      "text/plain": [
       "[1, 2]"
      ]
     },
     "execution_count": 7,
     "metadata": {},
     "output_type": "execute_result"
    }
   ],
   "source": [
    "df3 = pd.DataFrame(list1, columns=['a', 'b', 'c', 'd'])\n",
    "print(df3['a'].unique())\n",
    "df3_list = (df3['a'].unique()).tolist()\n",
    "df3_list\n",
    "# df4 = pd.DataFrame(df3['a'].unique(), columns=['z'])\n",
    "# df4"
   ]
  },
  {
   "cell_type": "code",
   "execution_count": 8,
   "id": "0cd5306b",
   "metadata": {},
   "outputs": [
    {
     "data": {
      "text/html": [
       "<div>\n",
       "<style scoped>\n",
       "    .dataframe tbody tr th:only-of-type {\n",
       "        vertical-align: middle;\n",
       "    }\n",
       "\n",
       "    .dataframe tbody tr th {\n",
       "        vertical-align: top;\n",
       "    }\n",
       "\n",
       "    .dataframe thead th {\n",
       "        text-align: right;\n",
       "    }\n",
       "</style>\n",
       "<table border=\"1\" class=\"dataframe\">\n",
       "  <thead>\n",
       "    <tr style=\"text-align: right;\">\n",
       "      <th></th>\n",
       "      <th>aa</th>\n",
       "    </tr>\n",
       "  </thead>\n",
       "  <tbody>\n",
       "    <tr>\n",
       "      <th>0</th>\n",
       "      <td>2</td>\n",
       "    </tr>\n",
       "    <tr>\n",
       "      <th>1</th>\n",
       "      <td>4</td>\n",
       "    </tr>\n",
       "    <tr>\n",
       "      <th>2</th>\n",
       "      <td>6</td>\n",
       "    </tr>\n",
       "    <tr>\n",
       "      <th>3</th>\n",
       "      <td>8</td>\n",
       "    </tr>\n",
       "  </tbody>\n",
       "</table>\n",
       "</div>"
      ],
      "text/plain": [
       "   aa\n",
       "0   2\n",
       "1   4\n",
       "2   6\n",
       "3   8"
      ]
     },
     "execution_count": 8,
     "metadata": {},
     "output_type": "execute_result"
    }
   ],
   "source": [
    "list2 = [2,4,6,8]\n",
    "df5 = pd.DataFrame(list2, columns = ['aa'])\n",
    "df5"
   ]
  },
  {
   "cell_type": "code",
   "execution_count": 9,
   "id": "67991862",
   "metadata": {},
   "outputs": [
    {
     "data": {
      "text/html": [
       "<div>\n",
       "<style scoped>\n",
       "    .dataframe tbody tr th:only-of-type {\n",
       "        vertical-align: middle;\n",
       "    }\n",
       "\n",
       "    .dataframe tbody tr th {\n",
       "        vertical-align: top;\n",
       "    }\n",
       "\n",
       "    .dataframe thead th {\n",
       "        text-align: right;\n",
       "    }\n",
       "</style>\n",
       "<table border=\"1\" class=\"dataframe\">\n",
       "  <thead>\n",
       "    <tr style=\"text-align: right;\">\n",
       "      <th></th>\n",
       "      <th>z</th>\n",
       "      <th>x</th>\n",
       "      <th>c</th>\n",
       "      <th>v</th>\n",
       "    </tr>\n",
       "  </thead>\n",
       "  <tbody>\n",
       "    <tr>\n",
       "      <th>0</th>\n",
       "      <td>1</td>\n",
       "      <td>2</td>\n",
       "      <td>3</td>\n",
       "      <td>4</td>\n",
       "    </tr>\n",
       "    <tr>\n",
       "      <th>1</th>\n",
       "      <td>2</td>\n",
       "      <td>4</td>\n",
       "      <td>5</td>\n",
       "      <td>6</td>\n",
       "    </tr>\n",
       "    <tr>\n",
       "      <th>2</th>\n",
       "      <td>2</td>\n",
       "      <td>7</td>\n",
       "      <td>9</td>\n",
       "      <td>2</td>\n",
       "    </tr>\n",
       "  </tbody>\n",
       "</table>\n",
       "</div>"
      ],
      "text/plain": [
       "   z  x  c  v\n",
       "0  1  2  3  4\n",
       "1  2  4  5  6\n",
       "2  2  7  9  2"
      ]
     },
     "execution_count": 9,
     "metadata": {},
     "output_type": "execute_result"
    }
   ],
   "source": [
    "df6 = pd.DataFrame(list1, columns=['z', 'x', 'c', 'v'])\n",
    "df6"
   ]
  },
  {
   "cell_type": "code",
   "execution_count": 10,
   "id": "6218ab26",
   "metadata": {},
   "outputs": [
    {
     "data": {
      "text/plain": [
       "int"
      ]
     },
     "execution_count": 10,
     "metadata": {},
     "output_type": "execute_result"
    }
   ],
   "source": [
    "list_daycount = []\n",
    "for i in range(10):\n",
    "        list_daycount.append(\"DAY%d\" %(i+1))\n",
    "type(len(list_daycount))"
   ]
  },
  {
   "cell_type": "code",
   "execution_count": 11,
   "id": "5c6867df",
   "metadata": {},
   "outputs": [
    {
     "data": {
      "text/plain": [
       "4"
      ]
     },
     "execution_count": 11,
     "metadata": {},
     "output_type": "execute_result"
    }
   ],
   "source": [
    "arr4 = np.full((2,4), -1)\n",
    "arr4.shape[1]"
   ]
  },
  {
   "cell_type": "code",
   "execution_count": 12,
   "id": "9756a115",
   "metadata": {},
   "outputs": [
    {
     "data": {
      "text/plain": [
       "['a', 'b']"
      ]
     },
     "execution_count": 12,
     "metadata": {},
     "output_type": "execute_result"
    }
   ],
   "source": [
    "temp = np.array(['a', 'b'])\n",
    "temp.tolist()"
   ]
  },
  {
   "cell_type": "code",
   "execution_count": 13,
   "id": "7ca5f862",
   "metadata": {},
   "outputs": [
    {
     "data": {
      "text/html": [
       "<div>\n",
       "<style scoped>\n",
       "    .dataframe tbody tr th:only-of-type {\n",
       "        vertical-align: middle;\n",
       "    }\n",
       "\n",
       "    .dataframe tbody tr th {\n",
       "        vertical-align: top;\n",
       "    }\n",
       "\n",
       "    .dataframe thead th {\n",
       "        text-align: right;\n",
       "    }\n",
       "</style>\n",
       "<table border=\"1\" class=\"dataframe\">\n",
       "  <thead>\n",
       "    <tr style=\"text-align: right;\">\n",
       "      <th></th>\n",
       "      <th>z</th>\n",
       "      <th>x</th>\n",
       "      <th>c</th>\n",
       "      <th>v</th>\n",
       "      <th>a</th>\n",
       "      <th>b</th>\n",
       "      <th>q</th>\n",
       "      <th>w</th>\n",
       "    </tr>\n",
       "  </thead>\n",
       "  <tbody>\n",
       "    <tr>\n",
       "      <th>0</th>\n",
       "      <td>1</td>\n",
       "      <td>2</td>\n",
       "      <td>3</td>\n",
       "      <td>4</td>\n",
       "      <td>1</td>\n",
       "      <td>2</td>\n",
       "      <td>3</td>\n",
       "      <td>4</td>\n",
       "    </tr>\n",
       "    <tr>\n",
       "      <th>1</th>\n",
       "      <td>2</td>\n",
       "      <td>4</td>\n",
       "      <td>5</td>\n",
       "      <td>6</td>\n",
       "      <td>2</td>\n",
       "      <td>4</td>\n",
       "      <td>5</td>\n",
       "      <td>6</td>\n",
       "    </tr>\n",
       "    <tr>\n",
       "      <th>2</th>\n",
       "      <td>2</td>\n",
       "      <td>7</td>\n",
       "      <td>9</td>\n",
       "      <td>2</td>\n",
       "      <td>2</td>\n",
       "      <td>7</td>\n",
       "      <td>9</td>\n",
       "      <td>2</td>\n",
       "    </tr>\n",
       "  </tbody>\n",
       "</table>\n",
       "</div>"
      ],
      "text/plain": [
       "   z  x  c  v  a  b  q  w\n",
       "0  1  2  3  4  1  2  3  4\n",
       "1  2  4  5  6  2  4  5  6\n",
       "2  2  7  9  2  2  7  9  2"
      ]
     },
     "execution_count": 13,
     "metadata": {},
     "output_type": "execute_result"
    }
   ],
   "source": [
    "df6 = pd.DataFrame(list1, columns=['z', 'x', 'c', 'v'])\n",
    "df7 = pd.DataFrame(list1, columns=['a', 'b', 'q', 'w'])\n",
    "cc = pd.concat([df6, df7], axis = 1)\n",
    "cc"
   ]
  },
  {
   "cell_type": "code",
   "execution_count": 14,
   "id": "f13e2bd6",
   "metadata": {},
   "outputs": [
    {
     "name": "stdout",
     "output_type": "stream",
     "text": [
      "   0  1  2  3\n",
      "0  1  2  3  4\n",
      "   0  0\n",
      "0  1  2\n",
      "1  2  3\n",
      "2  3  4\n",
      "3  4  5\n"
     ]
    }
   ],
   "source": [
    "df_empty = pd.DataFrame()\n",
    "df9 = pd.DataFrame(np.array([1,2,3,4]).T)\n",
    "print(df9.T)\n",
    "df10 = pd.DataFrame(np.array([2,3,4,5]).T)\n",
    "df_n = pd.concat([df_empty, df9], axis = 1)\n",
    "df_n = pd.concat([df_n, df10], axis = 1)\n",
    "# print(df_empty)\n",
    "print(df_n)"
   ]
  },
  {
   "cell_type": "code",
   "execution_count": 15,
   "id": "85ccc0ed",
   "metadata": {},
   "outputs": [
    {
     "data": {
      "text/plain": [
       "[-7, -6, -5, -4, -3, -2, -1, 0]"
      ]
     },
     "execution_count": 15,
     "metadata": {},
     "output_type": "execute_result"
    }
   ],
   "source": [
    "list(range(-7, 1))"
   ]
  },
  {
   "cell_type": "code",
   "execution_count": 16,
   "id": "3412c6ec",
   "metadata": {},
   "outputs": [
    {
     "data": {
      "text/html": [
       "<div>\n",
       "<style scoped>\n",
       "    .dataframe tbody tr th:only-of-type {\n",
       "        vertical-align: middle;\n",
       "    }\n",
       "\n",
       "    .dataframe tbody tr th {\n",
       "        vertical-align: top;\n",
       "    }\n",
       "\n",
       "    .dataframe thead th {\n",
       "        text-align: right;\n",
       "    }\n",
       "</style>\n",
       "<table border=\"1\" class=\"dataframe\">\n",
       "  <thead>\n",
       "    <tr style=\"text-align: right;\">\n",
       "      <th></th>\n",
       "      <th>DIFF</th>\n",
       "      <th>FRAUD_TODAY</th>\n",
       "    </tr>\n",
       "  </thead>\n",
       "  <tbody>\n",
       "    <tr>\n",
       "      <th>0</th>\n",
       "      <td>33</td>\n",
       "      <td>0</td>\n",
       "    </tr>\n",
       "    <tr>\n",
       "      <th>0</th>\n",
       "      <td>143</td>\n",
       "      <td>1</td>\n",
       "    </tr>\n",
       "  </tbody>\n",
       "</table>\n",
       "</div>"
      ],
      "text/plain": [
       "  DIFF FRAUD_TODAY\n",
       "0   33           0\n",
       "0  143           1"
      ]
     },
     "execution_count": 16,
     "metadata": {},
     "output_type": "execute_result"
    }
   ],
   "source": [
    "differenceSequence = pd.DataFrame([], columns=[\"DIFF\", \"FRAUD_TODAY\"])\n",
    "\n",
    "first_sequence = pd.DataFrame({\"DIFF\": [33], \"FRAUD_TODAY\": [0]})\n",
    "second_sequence = pd.DataFrame({\"DIFF\": [143], \"FRAUD_TODAY\": [1]})\n",
    "\n",
    "differenceSequence = pd.concat([differenceSequence, first_sequence], axis=0)\n",
    "differenceSequence = pd.concat([differenceSequence, second_sequence], axis=0)\n",
    "differenceSequence"
   ]
  },
  {
   "cell_type": "code",
   "execution_count": 17,
   "id": "e786b138",
   "metadata": {},
   "outputs": [
    {
     "data": {
      "text/html": [
       "<div>\n",
       "<style scoped>\n",
       "    .dataframe tbody tr th:only-of-type {\n",
       "        vertical-align: middle;\n",
       "    }\n",
       "\n",
       "    .dataframe tbody tr th {\n",
       "        vertical-align: top;\n",
       "    }\n",
       "\n",
       "    .dataframe thead th {\n",
       "        text-align: right;\n",
       "    }\n",
       "</style>\n",
       "<table border=\"1\" class=\"dataframe\">\n",
       "  <thead>\n",
       "    <tr style=\"text-align: right;\">\n",
       "      <th></th>\n",
       "      <th>a</th>\n",
       "    </tr>\n",
       "  </thead>\n",
       "  <tbody>\n",
       "    <tr>\n",
       "      <th>0</th>\n",
       "      <td>1</td>\n",
       "    </tr>\n",
       "    <tr>\n",
       "      <th>1</th>\n",
       "      <td>2</td>\n",
       "    </tr>\n",
       "  </tbody>\n",
       "</table>\n",
       "</div>"
      ],
      "text/plain": [
       "   a\n",
       "0  1\n",
       "1  2"
      ]
     },
     "execution_count": 17,
     "metadata": {},
     "output_type": "execute_result"
    }
   ],
   "source": [
    "aass = pd.DataFrame([1,2], columns=['a'])\n",
    "aass"
   ]
  },
  {
   "cell_type": "code",
   "execution_count": 18,
   "id": "b3a91be9",
   "metadata": {},
   "outputs": [
    {
     "name": "stdout",
     "output_type": "stream",
     "text": [
      "  name  val1  bool\n",
      "0    a     0     1\n",
      "1    b     5     0\n",
      "2    c     2     0\n",
      "3    d     8     1\n",
      "4    e     9     1\n"
     ]
    },
    {
     "data": {
      "text/html": [
       "<div>\n",
       "<style scoped>\n",
       "    .dataframe tbody tr th:only-of-type {\n",
       "        vertical-align: middle;\n",
       "    }\n",
       "\n",
       "    .dataframe tbody tr th {\n",
       "        vertical-align: top;\n",
       "    }\n",
       "\n",
       "    .dataframe thead th {\n",
       "        text-align: right;\n",
       "    }\n",
       "</style>\n",
       "<table border=\"1\" class=\"dataframe\">\n",
       "  <thead>\n",
       "    <tr style=\"text-align: right;\">\n",
       "      <th></th>\n",
       "      <th>val1</th>\n",
       "      <th>name</th>\n",
       "    </tr>\n",
       "  </thead>\n",
       "  <tbody>\n",
       "    <tr>\n",
       "      <th>0</th>\n",
       "      <td>0</td>\n",
       "      <td>a</td>\n",
       "    </tr>\n",
       "    <tr>\n",
       "      <th>1</th>\n",
       "      <td>5</td>\n",
       "      <td>b</td>\n",
       "    </tr>\n",
       "    <tr>\n",
       "      <th>2</th>\n",
       "      <td>2</td>\n",
       "      <td>c</td>\n",
       "    </tr>\n",
       "    <tr>\n",
       "      <th>3</th>\n",
       "      <td>8</td>\n",
       "      <td>d</td>\n",
       "    </tr>\n",
       "    <tr>\n",
       "      <th>4</th>\n",
       "      <td>9</td>\n",
       "      <td>e</td>\n",
       "    </tr>\n",
       "  </tbody>\n",
       "</table>\n",
       "</div>"
      ],
      "text/plain": [
       "   val1 name\n",
       "0     0    a\n",
       "1     5    b\n",
       "2     2    c\n",
       "3     8    d\n",
       "4     9    e"
      ]
     },
     "execution_count": 18,
     "metadata": {},
     "output_type": "execute_result"
    }
   ],
   "source": [
    "list3 = [\n",
    "    [\"a\", 0, 1],\n",
    "    [\"b\", 5, 0],\n",
    "    [\"c\", 2, 0],\n",
    "    [\"d\", 8, 1],\n",
    "    [\"e\", 9, 1],\n",
    "]\n",
    "\n",
    "list3_df = pd.DataFrame(list3, columns=[\"name\", \"val1\", \"bool\"])\n",
    "print(list3_df)\n",
    "list4_df = list3_df[[\"val1\", \"name\"]]\n",
    "list4_df"
   ]
  },
  {
   "cell_type": "code",
   "execution_count": 7,
   "id": "4957c95e",
   "metadata": {},
   "outputs": [
    {
     "name": "stdout",
     "output_type": "stream",
     "text": [
      "<class 'numpy.int32'>\n"
     ]
    }
   ],
   "source": [
    "def AMTCount(data):\n",
    "    amtCounted = pd.DataFrame([], columns=[\"CC_NUM\", \"AMT_COUNT\"])\n",
    "    amtCounted[\"AMT_COUNT\"] = (data[\"CC_NUM\"].to_frame()).value_counts()\n",
    "    amtCounted[\"CC_NUM\"] = (data[\"CC_NUM\"].value_counts()).index\n",
    "    amtCounted[\"CC_NUM\"] = amtCounted[\"CC_NUM\"].astype(\"int\")\n",
    "    amtCounted.reset_index(drop=True, inplace = True)\n",
    "    amtCounted = amtCounted.sort_values(by=[\"CC_NUM\"] ,ascending=True)\n",
    "    return amtCounted\n",
    "    \n",
    "df_temp = pd.DataFrame({\"CC_NUM\": [2,2,2,3,3,4,4,4,4,4], \"AMT\":[1,6,8,7,8,4,3,6,9,10]})\n",
    "df_result = AMTCount(df_temp)\n",
    "df_result\n",
    "print(type(df_result.loc[1, \"CC_NUM\"]))"
   ]
  },
  {
   "cell_type": "code",
   "execution_count": 10,
   "id": "85483b8f",
   "metadata": {},
   "outputs": [
    {
     "name": "stdout",
     "output_type": "stream",
     "text": [
      "asdf\n"
     ]
    }
   ],
   "source": [
    "fuck = pd.Series([1])\n",
    "fuck\n",
    "if(fuck.item() == 1):\n",
    "    print(\"asdf\")"
   ]
  }
 ],
 "metadata": {
  "kernelspec": {
   "display_name": "Python 3 (ipykernel)",
   "language": "python",
   "name": "python3"
  },
  "language_info": {
   "codemirror_mode": {
    "name": "ipython",
    "version": 3
   },
   "file_extension": ".py",
   "mimetype": "text/x-python",
   "name": "python",
   "nbconvert_exporter": "python",
   "pygments_lexer": "ipython3",
   "version": "3.11.4"
  }
 },
 "nbformat": 4,
 "nbformat_minor": 5
}
