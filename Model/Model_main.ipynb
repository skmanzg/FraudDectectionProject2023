{
 "cells": [
  {
   "cell_type": "code",
   "execution_count": 1,
   "id": "406af002",
   "metadata": {},
   "outputs": [],
   "source": [
    "#!pip install tensorflow==2.14"
   ]
  },
  {
   "cell_type": "code",
   "execution_count": null,
   "id": "1b67eda2",
   "metadata": {},
   "outputs": [],
   "source": [
    "#py파일이어야 임포트 됨\n",
    "from KNN_functions import *\n",
    "from Customized_CNN import *"
   ]
  },
  {
   "cell_type": "code",
   "execution_count": null,
   "id": "46da473a",
   "metadata": {},
   "outputs": [],
   "source": [
    "def AMTCount(data):\n",
    "    amtCounted = pd.DataFrame([], columns=[\"CC_NUM\", \"AMT_COUNT\"])\n",
    "    amtCounted[\"AMT_COUNT\"] = (data[\"CC_NUM\"].to_frame()).value_counts()\n",
    "    amtCounted[\"CC_NUM\"] = (data[\"CC_NUM\"].value_counts()).index\n",
    "    amtCounted[\"CC_NUM\"] = amtCounted[\"CC_NUM\"].astype(\"int\")\n",
    "    amtCounted.reset_index(drop=True, inplace = True)\n",
    "    amtCounted = amtCounted.sort_values(by=[\"CC_NUM\"] ,ascending=True)\n",
    "    return amtCounted"
   ]
  },
  {
   "cell_type": "code",
   "execution_count": null,
   "id": "a99b515a",
   "metadata": {},
   "outputs": [],
   "source": [
    "def FraudModel(data, isLearn, alpha, beta, gamma, delta1, delta2, omega, epsilon, mu):\n",
    "    amtCount = AMTCount(data)\n",
    "    if(isLearn):\n",
    "        KNNforFraud(data, isLearn, beta, delta1, epsilon)\n",
    "        DifferenceforFraud(data, isLearn, gamma, delta2, omega, mu)\n",
    "        return 0\n",
    "    else:\n",
    "        currentCCNUM = data.loc[0, \"CC_NUM\"]\n",
    "        if(amtCount[amtCount[\"CC_NUM\"] == currentCCNUM].empty or amtCount[amtCount[\"CC_NUM\"] == currentCCNUM] < alpha):\n",
    "            fraud_prob = KNNforFraud(data, isLearn, beta, delta1, epsilon)\n",
    "        else:\n",
    "            fraud_prob = DifferenceforFraud(data, isLearn, gamma, delta2, omega, mu)\n",
    "        return fraud_prob"
   ]
  },
  {
   "cell_type": "code",
   "execution_count": null,
   "id": "be81f636",
   "metadata": {},
   "outputs": [],
   "source": [
    "df_train_x = pd.read_csv(\"../data/splitted/Fraud_Detection_train_features.csv\")\n",
    "df_train_y = pd.read_csv(\"../data/splitted/Fraud_Detection_train_target.csv\")\n",
    "df_val_x = pd.read_csv(\"../data/splitted/Fraud_Detection_validation_features.csv\")\n",
    "df_val_y = pd.read_csv(\"../data/splitted/Fraud_Detection_validation_target.csv\")\n",
    "\n",
    "#다루기 쉽게 하기 위해 IS_FRAUD를 int형으로 변경\n",
    "df_train_y = df_train_y.astype(\"int\")\n",
    "df_val_y = df_val_y.astype(\"int\")\n",
    "\n",
    "df_train = pd.concat([df_train_x, df_train_y], axis=1)\n",
    "\n",
    "df_train\n",
    "\n",
    "model_result = FraudModel(data=df_train, isLearn=True, alpha=7, beta=7, gamma=7, delta1=0.5, delta2=0.5, omega=6, epsilon=5, mu=2)"
   ]
  }
 ],
 "metadata": {
  "kernelspec": {
   "display_name": "Python 3 (ipykernel)",
   "language": "python",
   "name": "python3"
  },
  "language_info": {
   "codemirror_mode": {
    "name": "ipython",
    "version": 3
   },
   "file_extension": ".py",
   "mimetype": "text/x-python",
   "name": "python",
   "nbconvert_exporter": "python",
   "pygments_lexer": "ipython3",
   "version": "3.11.4"
  }
 },
 "nbformat": 4,
 "nbformat_minor": 5
}
