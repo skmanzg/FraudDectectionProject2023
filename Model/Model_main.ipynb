{
 "cells": [
  {
   "cell_type": "code",
   "execution_count": 1,
   "id": "406af002",
   "metadata": {},
   "outputs": [],
   "source": [
    "#!pip install tensorflow==2.14\n",
    "import warnings\n",
    "warnings.filterwarnings(action='ignore')"
   ]
  },
  {
   "cell_type": "code",
   "execution_count": 2,
   "id": "1b67eda2",
   "metadata": {},
   "outputs": [],
   "source": [
    "#py파일이어야 임포트 됨\n",
    "from KNN_functions import *\n",
    "from Customized_CNN import *"
   ]
  },
  {
   "cell_type": "code",
   "execution_count": 3,
   "id": "b319ba6d",
   "metadata": {},
   "outputs": [],
   "source": [
    "def Accuracy(df_2columns): # 0열은 예측값, 1열은 실제값\n",
    "    print(\"df_2columns (showing ten rows): \\n\", df_2columns.head(10))\n",
    "    \n",
    "    total = df_2columns.shape[0]\n",
    "    print(\"total : \", total)\n",
    "    correct_count = 0\n",
    "    \n",
    "    df_2columns = df_2columns.reset_index(drop=True)\n",
    "    for i in range(df_2columns.shape[0]):\n",
    "        if (df_2columns.iloc[i,0] == df_2columns.iloc[i,1]):\n",
    "            correct_count += 1\n",
    "            \n",
    "    print(\"correct_count : \", correct_count)\n",
    "    return correct_count / total"
   ]
  },
  {
   "cell_type": "code",
   "execution_count": 4,
   "id": "46da473a",
   "metadata": {},
   "outputs": [],
   "source": [
    "def AMTCount(data, isLearn):\n",
    "    if(not isLearn):\n",
    "        #print(\"data\\n\\n\", data)\n",
    "        #print(\"df_train_global\\n\\n\", df_train_global)\n",
    "#         df_train_temp = df_train_global.copy()\n",
    "#         del df_train_temp[\"DAY\"]\n",
    "#         print(\"df_train_temp\\n\\n\", df_train_temp)\n",
    "        data = pd.concat([df_train_global, data], axis=0)\n",
    "    amtCounted = pd.DataFrame([], columns=[\"CC_NUM\", \"AMT_COUNT\"])\n",
    "    if(isLearn):\n",
    "        amtCounted[\"AMT_COUNT\"] = ((data[\"CC_NUM\"].to_frame())).value_counts()\n",
    "        #amtCounted[\"AMT_COUNT\"] = (data.to_frame()).value_counts()\n",
    "        amtCounted[\"CC_NUM\"] = (data[\"CC_NUM\"].value_counts()).index\n",
    "        amtCounted[\"CC_NUM\"] = amtCounted[\"CC_NUM\"].astype(\"int\")\n",
    "        amtCounted.reset_index(drop=True, inplace = True)\n",
    "        amtCounted = amtCounted.sort_values(by=[\"CC_NUM\"] ,ascending=True)\n",
    "        #print(\"@@@@@@@@@@@@@@@@@\", amtCounted)\n",
    "        return amtCounted\n",
    "    else: #data는 1행임, amtCounted는 빈 df\n",
    "        amtCounted[\"AMT_COUNT\"] = (data[\"CC_NUM\"]).value_counts()\n",
    "        #amtCounted[\"AMT_COUNT\"] = (data.to_frame()).value_counts()\n",
    "        amtCounted[\"CC_NUM\"] = (data[\"CC_NUM\"].value_counts()).index\n",
    "        amtCounted[\"CC_NUM\"] = amtCounted[\"CC_NUM\"].astype(\"int64\")\n",
    "        amtCounted.reset_index(drop=True, inplace = True)\n",
    "        amtCounted = amtCounted.sort_values(by=[\"CC_NUM\"] ,ascending=True)\n",
    "        return amtCounted"
   ]
  },
  {
   "cell_type": "code",
   "execution_count": 5,
   "id": "a99b515a",
   "metadata": {},
   "outputs": [],
   "source": [
    "def FraudModel(data, isLearn, alpha, beta, gamma, delta1, delta2, omega, epsilon, mu):\n",
    "    \n",
    "    if(not isLearn):\n",
    "        #data datatype is Series\n",
    "        data = data.to_frame().T\n",
    "    amtCount = AMTCount(data, isLearn)\n",
    "    \n",
    "    \n",
    "    if(isLearn):\n",
    "        KNNforFraud(data, isLearn, beta, delta1, epsilon)\n",
    "        DifferenceforFraud(data, isLearn, gamma, delta2, omega, mu)\n",
    "        return 2\n",
    "    else:\n",
    "        currentCCNUM = data[\"CC_NUM\"]\n",
    "        currentCCNUM = currentCCNUM.item()\n",
    "        amtCount.reset_index(drop=True, inplace=True)\n",
    "        #print(\"@#$$%#@$^#%$^#$^\\n\", amtCount)\n",
    "        amt_count_temp = np.nan\n",
    "        for row in amtCount.itertuples():\n",
    "            #print(row.Index, row.CC_NUM, row.AMT_COUNT)\n",
    "            if(currentCCNUM == row.CC_NUM):\n",
    "                amt_count_temp = row.AMT_COUNT\n",
    "        print(\"**amt_count_temp : \", amt_count_temp)\n",
    "        if(amtCount[amtCount[\"CC_NUM\"] == currentCCNUM].empty or amt_count_temp < alpha):\n",
    "            #print(\"Decision value is___\", amtCount[amtCount[\"CC_NUM\"] == currentCCNUM])\n",
    "            fraud_predict = KNNforFraud(data, isLearn, beta, delta1, epsilon)\n",
    "        else:\n",
    "            #print(\"Decision value is___\", amtCount[amtCount[\"CC_NUM\"] == currentCCNUM])\n",
    "            fraud_predict = DifferenceforFraud(data, isLearn, gamma, delta2, omega, mu)\n",
    "        return fraud_predict"
   ]
  },
  {
   "cell_type": "code",
   "execution_count": 6,
   "id": "be81f636",
   "metadata": {
    "scrolled": true
   },
   "outputs": [
    {
     "name": "stdout",
     "output_type": "stream",
     "text": [
      "0    22223\n",
      "1     5791\n",
      "Name: IS_FRAUD, dtype: int64\n",
      "Least frequent CC_NUM count is  1\n",
      "Most frequent CC_NUM count is  28\n",
      "Epoch 1/5\n",
      "876/876 [==============================] - 1s 581us/step - loss: 0.1802 - accuracy: 0.9735\n",
      "Epoch 2/5\n",
      "876/876 [==============================] - 1s 569us/step - loss: 0.0355 - accuracy: 0.9853\n",
      "Epoch 3/5\n",
      "876/876 [==============================] - 0s 569us/step - loss: 0.0330 - accuracy: 0.9856\n",
      "Epoch 4/5\n",
      "876/876 [==============================] - 0s 570us/step - loss: 0.0328 - accuracy: 0.9865\n",
      "Epoch 5/5\n",
      "876/876 [==============================] - 1s 575us/step - loss: 0.0326 - accuracy: 0.9868\n",
      "DifferenceforFraud START\n",
      "TableConverter START\n"
     ]
    },
    {
     "ename": "KeyboardInterrupt",
     "evalue": "",
     "output_type": "error",
     "traceback": [
      "\u001b[1;31m---------------------------------------------------------------------------\u001b[0m",
      "\u001b[1;31mKeyboardInterrupt\u001b[0m                         Traceback (most recent call last)",
      "Cell \u001b[1;32mIn[6], line 26\u001b[0m\n\u001b[0;32m     23\u001b[0m \u001b[38;5;28mprint\u001b[39m(\u001b[38;5;124m\"\u001b[39m\u001b[38;5;124mLeast frequent CC_NUM count is \u001b[39m\u001b[38;5;124m\"\u001b[39m, df_val_global[\u001b[38;5;124m\"\u001b[39m\u001b[38;5;124mCC_NUM\u001b[39m\u001b[38;5;124m\"\u001b[39m]\u001b[38;5;241m.\u001b[39mvalue_counts()\u001b[38;5;241m.\u001b[39mmin())\n\u001b[0;32m     24\u001b[0m \u001b[38;5;28mprint\u001b[39m(\u001b[38;5;124m\"\u001b[39m\u001b[38;5;124mMost frequent CC_NUM count is \u001b[39m\u001b[38;5;124m\"\u001b[39m, df_val_global[\u001b[38;5;124m\"\u001b[39m\u001b[38;5;124mCC_NUM\u001b[39m\u001b[38;5;124m\"\u001b[39m]\u001b[38;5;241m.\u001b[39mvalue_counts()\u001b[38;5;241m.\u001b[39mmax())\n\u001b[1;32m---> 26\u001b[0m model_result \u001b[38;5;241m=\u001b[39m FraudModel(data\u001b[38;5;241m=\u001b[39mdf_train_global, isLearn\u001b[38;5;241m=\u001b[39m\u001b[38;5;28;01mTrue\u001b[39;00m, alpha\u001b[38;5;241m=\u001b[39m\u001b[38;5;241m4\u001b[39m, beta\u001b[38;5;241m=\u001b[39m\u001b[38;5;241m7\u001b[39m, gamma\u001b[38;5;241m=\u001b[39m\u001b[38;5;241m4\u001b[39m, delta1\u001b[38;5;241m=\u001b[39m\u001b[38;5;241m0.5\u001b[39m, delta2\u001b[38;5;241m=\u001b[39m\u001b[38;5;241m0.5\u001b[39m, omega\u001b[38;5;241m=\u001b[39m\u001b[38;5;241m3\u001b[39m, epsilon\u001b[38;5;241m=\u001b[39m\u001b[38;5;241m5\u001b[39m, mu\u001b[38;5;241m=\u001b[39m\u001b[38;5;241m5\u001b[39m)\n",
      "Cell \u001b[1;32mIn[5], line 11\u001b[0m, in \u001b[0;36mFraudModel\u001b[1;34m(data, isLearn, alpha, beta, gamma, delta1, delta2, omega, epsilon, mu)\u001b[0m\n\u001b[0;32m      9\u001b[0m \u001b[38;5;28;01mif\u001b[39;00m(isLearn):\n\u001b[0;32m     10\u001b[0m     KNNforFraud(data, isLearn, beta, delta1, epsilon)\n\u001b[1;32m---> 11\u001b[0m     DifferenceforFraud(data, isLearn, gamma, delta2, omega, mu)\n\u001b[0;32m     12\u001b[0m     \u001b[38;5;28;01mreturn\u001b[39;00m \u001b[38;5;241m2\u001b[39m\n\u001b[0;32m     13\u001b[0m \u001b[38;5;28;01melse\u001b[39;00m:\n",
      "File \u001b[1;32m~\\OneDrive\\바탕 화면\\project\\FraudDetectionProject2023\\Model\\Customized_CNN.py:252\u001b[0m, in \u001b[0;36mDifferenceforFraud\u001b[1;34m(data, isLearn, gamma, delta2, omega, mu)\u001b[0m\n\u001b[0;32m    249\u001b[0m \u001b[38;5;28;01mglobal\u001b[39;00m lr\n\u001b[0;32m    251\u001b[0m \u001b[38;5;28;01mif\u001b[39;00m(isLearn):\n\u001b[1;32m--> 252\u001b[0m     data_converted \u001b[38;5;241m=\u001b[39m TableConverter(reduced_data, isLearn, gamma)\n\u001b[0;32m    254\u001b[0m     \u001b[38;5;28;01mglobal\u001b[39;00m differenceSequence_\n\u001b[0;32m    255\u001b[0m     differenceSequence_ \u001b[38;5;241m=\u001b[39m DifferenceGenerator(data_converted, isLearn, gamma, mu)\n",
      "File \u001b[1;32m~\\OneDrive\\바탕 화면\\project\\FraudDetectionProject2023\\Model\\Customized_CNN.py:108\u001b[0m, in \u001b[0;36mTableConverter\u001b[1;34m(reduced_data, isLearn, gamma)\u001b[0m\n\u001b[0;32m    105\u001b[0m         idx_count \u001b[38;5;241m+\u001b[39m\u001b[38;5;241m=\u001b[39m \u001b[38;5;241m1\u001b[39m\n\u001b[0;32m    106\u001b[0m         num_count \u001b[38;5;241m=\u001b[39m \u001b[38;5;241m1\u001b[39m\n\u001b[1;32m--> 108\u001b[0m     df_amt\u001b[38;5;241m.\u001b[39mloc[idx_count, \u001b[38;5;124m\"\u001b[39m\u001b[38;5;124mDAY\u001b[39m\u001b[38;5;132;01m%d\u001b[39;00m\u001b[38;5;124m\"\u001b[39m \u001b[38;5;241m%\u001b[39m(num_count)] \u001b[38;5;241m=\u001b[39m reduced_data\u001b[38;5;241m.\u001b[39mloc[i, \u001b[38;5;124m\"\u001b[39m\u001b[38;5;124mAMT\u001b[39m\u001b[38;5;124m\"\u001b[39m]\n\u001b[0;32m    109\u001b[0m     num_count \u001b[38;5;241m+\u001b[39m\u001b[38;5;241m=\u001b[39m \u001b[38;5;241m1\u001b[39m\n\u001b[0;32m    110\u001b[0m \u001b[38;5;66;03m#여기까지 오면 df_ccnum과 df_amt가 채워졌다.\u001b[39;00m\n",
      "File \u001b[1;32m~\\anaconda3\\Lib\\site-packages\\pandas\\core\\indexing.py:1065\u001b[0m, in \u001b[0;36m_LocationIndexer.__getitem__\u001b[1;34m(self, key)\u001b[0m\n\u001b[0;32m   1063\u001b[0m key \u001b[38;5;241m=\u001b[39m \u001b[38;5;28mtuple\u001b[39m(\u001b[38;5;28mlist\u001b[39m(x) \u001b[38;5;28;01mif\u001b[39;00m is_iterator(x) \u001b[38;5;28;01melse\u001b[39;00m x \u001b[38;5;28;01mfor\u001b[39;00m x \u001b[38;5;129;01min\u001b[39;00m key)\n\u001b[0;32m   1064\u001b[0m key \u001b[38;5;241m=\u001b[39m \u001b[38;5;28mtuple\u001b[39m(com\u001b[38;5;241m.\u001b[39mapply_if_callable(x, \u001b[38;5;28mself\u001b[39m\u001b[38;5;241m.\u001b[39mobj) \u001b[38;5;28;01mfor\u001b[39;00m x \u001b[38;5;129;01min\u001b[39;00m key)\n\u001b[1;32m-> 1065\u001b[0m \u001b[38;5;28;01mif\u001b[39;00m \u001b[38;5;28mself\u001b[39m\u001b[38;5;241m.\u001b[39m_is_scalar_access(key):\n\u001b[0;32m   1066\u001b[0m     \u001b[38;5;28;01mreturn\u001b[39;00m \u001b[38;5;28mself\u001b[39m\u001b[38;5;241m.\u001b[39mobj\u001b[38;5;241m.\u001b[39m_get_value(\u001b[38;5;241m*\u001b[39mkey, takeable\u001b[38;5;241m=\u001b[39m\u001b[38;5;28mself\u001b[39m\u001b[38;5;241m.\u001b[39m_takeable)\n\u001b[0;32m   1067\u001b[0m \u001b[38;5;28;01mreturn\u001b[39;00m \u001b[38;5;28mself\u001b[39m\u001b[38;5;241m.\u001b[39m_getitem_tuple(key)\n",
      "File \u001b[1;32m~\\anaconda3\\Lib\\site-packages\\pandas\\core\\indexing.py:1156\u001b[0m, in \u001b[0;36m_LocIndexer._is_scalar_access\u001b[1;34m(self, key)\u001b[0m\n\u001b[0;32m   1151\u001b[0m     \u001b[38;5;28;01mif\u001b[39;00m \u001b[38;5;28misinstance\u001b[39m(k, \u001b[38;5;28mstr\u001b[39m) \u001b[38;5;129;01mand\u001b[39;00m ax\u001b[38;5;241m.\u001b[39m_supports_partial_string_indexing:\n\u001b[0;32m   1152\u001b[0m         \u001b[38;5;66;03m# partial string indexing, df.loc['2000', 'A']\u001b[39;00m\n\u001b[0;32m   1153\u001b[0m         \u001b[38;5;66;03m# should not be considered scalar\u001b[39;00m\n\u001b[0;32m   1154\u001b[0m         \u001b[38;5;28;01mreturn\u001b[39;00m \u001b[38;5;28;01mFalse\u001b[39;00m\n\u001b[1;32m-> 1156\u001b[0m     \u001b[38;5;28;01mif\u001b[39;00m \u001b[38;5;129;01mnot\u001b[39;00m ax\u001b[38;5;241m.\u001b[39m_index_as_unique:\n\u001b[0;32m   1157\u001b[0m         \u001b[38;5;28;01mreturn\u001b[39;00m \u001b[38;5;28;01mFalse\u001b[39;00m\n\u001b[0;32m   1159\u001b[0m \u001b[38;5;28;01mreturn\u001b[39;00m \u001b[38;5;28;01mTrue\u001b[39;00m\n",
      "\u001b[1;31mKeyboardInterrupt\u001b[0m: "
     ]
    }
   ],
   "source": [
    "global df_train_x_global\n",
    "global df_train_y_global\n",
    "global df_val_x_global\n",
    "global df_val_y_global\n",
    "\n",
    "\n",
    "df_train_x_global = pd.read_csv(\"../data/splitted/Fraud_Detection_train_features.csv\")\n",
    "df_train_y_global = pd.read_csv(\"../data/splitted/Fraud_Detection_train_target.csv\")\n",
    "df_val_x_global = pd.read_csv(\"../data/splitted/Fraud_Detection_validation_features.csv\")\n",
    "df_val_y_global = pd.read_csv(\"../data/splitted/Fraud_Detection_validation_target.csv\")\n",
    "\n",
    "#다루기 쉽게 하기 위해 IS_FRAUD를 int형으로 변경\n",
    "df_train_y_global = df_train_y_global.astype(\"int\")\n",
    "df_val_y_global = df_val_y_global.astype(\"int\")\n",
    "\n",
    "global df_train_global\n",
    "global df_val_global\n",
    "\n",
    "df_train_global = pd.concat([df_train_x_global, df_train_y_global], axis=1)\n",
    "df_val_global = pd.concat([df_val_x_global, df_val_y_global], axis=1)\n",
    "\n",
    "print(df_train_global[\"IS_FRAUD\"].value_counts())\n",
    "print(\"Least frequent CC_NUM count is \", df_val_global[\"CC_NUM\"].value_counts().min())\n",
    "print(\"Most frequent CC_NUM count is \", df_val_global[\"CC_NUM\"].value_counts().max())\n",
    "\n",
    "model_result = FraudModel(data=df_train_global, isLearn=True, alpha=4, beta=7, gamma=4, delta1=0.5, delta2=0.5, omega=3, epsilon=5, mu=5)"
   ]
  },
  {
   "cell_type": "markdown",
   "id": "f8a9ad74",
   "metadata": {},
   "source": [
    "## 이제 validation을 해 보자\n",
    "### FraudModel당 하나의 row(데이터)를 넣어야 한다!"
   ]
  },
  {
   "cell_type": "code",
   "execution_count": null,
   "id": "7490d6f2",
   "metadata": {
    "scrolled": true
   },
   "outputs": [],
   "source": [
    "predict_list = []\n",
    "# for row_idx in range(df_val_x_global.shape[0]):\n",
    "\n",
    "how_many = 2000\n",
    "\n",
    "for row_idx in range(how_many):\n",
    "    print(\"%d번째 데이터 검증중... : \"row_idx)\n",
    "    model_predicted=FraudModel(data=df_val_global.loc[row_idx], isLearn=False, alpha=4, beta=7, gamma=4, delta1=0.5, delta2=0.5, omega=3, epsilon=5, mu=5)\n",
    "    predict_list.append(model_predicted)\n",
    "\n",
    "#print(predict_list)\n",
    "#print(type(predict_list))\n",
    "\n",
    "\n",
    "pred_and_real = pd.DataFrame({\"PREDICTED\":predict_list})\n",
    "pred_and_real = pred_and_real.astype(\"int\")\n",
    "pred_and_real = pd.concat([pred_and_real, df_val_y_global.head(how_many)], axis = 1)\n",
    "print(\"Accuracy : \", Accuracy(pred_and_real))"
   ]
  }
 ],
 "metadata": {
  "kernelspec": {
   "display_name": "Python 3 (ipykernel)",
   "language": "python",
   "name": "python3"
  },
  "language_info": {
   "codemirror_mode": {
    "name": "ipython",
    "version": 3
   },
   "file_extension": ".py",
   "mimetype": "text/x-python",
   "name": "python",
   "nbconvert_exporter": "python",
   "pygments_lexer": "ipython3",
   "version": "3.11.4"
  }
 },
 "nbformat": 4,
 "nbformat_minor": 5
}
