{
 "cells": [
  {
   "cell_type": "code",
   "execution_count": 1,
   "id": "406af002",
   "metadata": {},
   "outputs": [],
   "source": [
    "#!pip install tensorflow==2.14"
   ]
  },
  {
   "cell_type": "code",
   "execution_count": 2,
   "id": "1b67eda2",
   "metadata": {},
   "outputs": [],
   "source": [
    "#py파일이어야 임포트 됨\n",
    "from KNN_functions import *\n",
    "from Customized_CNN import *"
   ]
  },
  {
   "cell_type": "code",
   "execution_count": 3,
   "id": "46da473a",
   "metadata": {},
   "outputs": [],
   "source": [
    "def AMTCount(data):\n",
    "    amtCounted = pd.DataFrame([], columns=[\"CC_NUM\", \"AMT_COUNT\"])\n",
    "    amtCounted[\"AMT_COUNT\"] = (data[\"CC_NUM\"].to_frame()).value_counts()\n",
    "    amtCounted[\"CC_NUM\"] = (data[\"CC_NUM\"].value_counts()).index\n",
    "    amtCounted[\"CC_NUM\"] = amtCounted[\"CC_NUM\"].astype(\"int\")\n",
    "    amtCounted.reset_index(drop=True, inplace = True)\n",
    "    amtCounted = amtCounted.sort_values(by=[\"CC_NUM\"] ,ascending=True)\n",
    "    return amtCounted"
   ]
  },
  {
   "cell_type": "code",
   "execution_count": 4,
   "id": "a99b515a",
   "metadata": {},
   "outputs": [],
   "source": [
    "def FraudModel(data, isLearn, alpha, beta, gamma, delta1, delta2, omega, epsilon, mu):\n",
    "    amtCount = AMTCount(data)\n",
    "    if(isLearn):\n",
    "        KNNforFraud(data, isLearn, beta, delta1, epsilon)\n",
    "        DifferenceforFraud(data, isLearn, gamma, delta2, omega, mu)\n",
    "        return 0\n",
    "    else:\n",
    "        currentCCNUM = data.loc[0, \"CC_NUM\"]\n",
    "        if(amtCount[amtCount[\"CC_NUM\"] == currentCCNUM].empty or amtCount[amtCount[\"CC_NUM\"] == currentCCNUM] < alpha):\n",
    "            fraud_prob = KNNforFraud(data, isLearn, beta, delta1, epsilon)\n",
    "        else:\n",
    "            fraud_prob = DifferenceforFraud(data, isLearn, gamma, delta2, omega, mu)\n",
    "        return fraud_prob"
   ]
  },
  {
   "cell_type": "code",
   "execution_count": 5,
   "id": "be81f636",
   "metadata": {},
   "outputs": [
    {
     "name": "stderr",
     "output_type": "stream",
     "text": [
      "C:\\Users\\embed\\OneDrive\\바탕 화면\\project\\FraudDetectionProject2023\\Model\\KNN_functions.py:20: SettingWithCopyWarning: \n",
      "A value is trying to be set on a copy of a slice from a DataFrame.\n",
      "Try using .loc[row_indexer,col_indexer] = value instead\n",
      "\n",
      "See the caveats in the documentation: https://pandas.pydata.org/pandas-docs/stable/user_guide/indexing.html#returning-a-view-versus-a-copy\n",
      "  reduced_data.loc[:,\"IS_FRAUD\"] = reduced_data.loc[:,\"IS_FRAUD\"].astype(\"int\")\n"
     ]
    },
    {
     "name": "stdout",
     "output_type": "stream",
     "text": [
      "(28014, 10)\n",
      "(28014, 5)\n",
      "(28014,)\n",
      "Epoch 1/5\n",
      "876/876 [==============================] - 1s 571us/step - loss: 0.2644 - accuracy: 0.9153\n",
      "Epoch 2/5\n",
      "876/876 [==============================] - 0s 552us/step - loss: 0.0392 - accuracy: 0.9848\n",
      "Epoch 3/5\n",
      "876/876 [==============================] - 0s 547us/step - loss: 0.0335 - accuracy: 0.9862\n",
      "Epoch 4/5\n",
      "876/876 [==============================] - 0s 560us/step - loss: 0.0328 - accuracy: 0.9866\n",
      "Epoch 5/5\n",
      "876/876 [==============================] - 0s 551us/step - loss: 0.0328 - accuracy: 0.9866\n"
     ]
    },
    {
     "ename": "ValueError",
     "evalue": "Expected 2D array, got 1D array instead:\narray=[0. 0. 0. ... 0. 0. 0.].\nReshape your data either using array.reshape(-1, 1) if your data has a single feature or array.reshape(1, -1) if it contains a single sample.",
     "output_type": "error",
     "traceback": [
      "\u001b[1;31m---------------------------------------------------------------------------\u001b[0m",
      "\u001b[1;31mValueError\u001b[0m                                Traceback (most recent call last)",
      "Cell \u001b[1;32mIn[5], line 14\u001b[0m\n\u001b[0;32m     10\u001b[0m df_train \u001b[38;5;241m=\u001b[39m pd\u001b[38;5;241m.\u001b[39mconcat([df_train_x, df_train_y], axis\u001b[38;5;241m=\u001b[39m\u001b[38;5;241m1\u001b[39m)\n\u001b[0;32m     12\u001b[0m df_train\n\u001b[1;32m---> 14\u001b[0m model_result \u001b[38;5;241m=\u001b[39m FraudModel(data\u001b[38;5;241m=\u001b[39mdf_train, isLearn\u001b[38;5;241m=\u001b[39m\u001b[38;5;28;01mTrue\u001b[39;00m, alpha\u001b[38;5;241m=\u001b[39m\u001b[38;5;241m7\u001b[39m, beta\u001b[38;5;241m=\u001b[39m\u001b[38;5;241m7\u001b[39m, gamma\u001b[38;5;241m=\u001b[39m\u001b[38;5;241m7\u001b[39m, delta1\u001b[38;5;241m=\u001b[39m\u001b[38;5;241m0.5\u001b[39m, delta2\u001b[38;5;241m=\u001b[39m\u001b[38;5;241m0.5\u001b[39m, omega\u001b[38;5;241m=\u001b[39m\u001b[38;5;241m6\u001b[39m, epsilon\u001b[38;5;241m=\u001b[39m\u001b[38;5;241m5\u001b[39m, mu\u001b[38;5;241m=\u001b[39m\u001b[38;5;241m2\u001b[39m)\n",
      "Cell \u001b[1;32mIn[4], line 5\u001b[0m, in \u001b[0;36mFraudModel\u001b[1;34m(data, isLearn, alpha, beta, gamma, delta1, delta2, omega, epsilon, mu)\u001b[0m\n\u001b[0;32m      3\u001b[0m \u001b[38;5;28;01mif\u001b[39;00m(isLearn):\n\u001b[0;32m      4\u001b[0m     KNNforFraud(data, isLearn, beta, delta1, epsilon)\n\u001b[1;32m----> 5\u001b[0m     DifferenceforFraud(data, isLearn, gamma, delta2, omega, mu)\n\u001b[0;32m      6\u001b[0m     \u001b[38;5;28;01mreturn\u001b[39;00m \u001b[38;5;241m0\u001b[39m\n\u001b[0;32m      7\u001b[0m \u001b[38;5;28;01melse\u001b[39;00m:\n",
      "File \u001b[1;32m~\\OneDrive\\바탕 화면\\project\\FraudDetectionProject2023\\Model\\Customized_CNN.py:204\u001b[0m, in \u001b[0;36mDifferenceforFraud\u001b[1;34m(data, isLearn, gamma, delta2, omega, mu)\u001b[0m\n\u001b[0;32m    201\u001b[0m differenceSequence_ \u001b[38;5;241m=\u001b[39m DifferenceGenerator(data_converted, isLearn, gamma, mu)\n\u001b[0;32m    203\u001b[0m MMscaler2 \u001b[38;5;241m=\u001b[39m MinMaxScaler()\n\u001b[1;32m--> 204\u001b[0m MMscaler2\u001b[38;5;241m.\u001b[39mfit(differenceSequence_[\u001b[38;5;124m\"\u001b[39m\u001b[38;5;124mDIFF\u001b[39m\u001b[38;5;124m\"\u001b[39m])\n\u001b[0;32m    205\u001b[0m differenceSequence_scaled_diff \u001b[38;5;241m=\u001b[39m MMscaler2\u001b[38;5;241m.\u001b[39mtransform(differenceSequence_[\u001b[38;5;124m\"\u001b[39m\u001b[38;5;124mDIFF\u001b[39m\u001b[38;5;124m\"\u001b[39m])\n\u001b[0;32m    206\u001b[0m differenceSequence_scaled_diff \u001b[38;5;241m=\u001b[39m pd\u001b[38;5;241m.\u001b[39mDataFrame(differenceSequence_scaled_diff, columns\u001b[38;5;241m=\u001b[39m[\u001b[38;5;124m\"\u001b[39m\u001b[38;5;124mDIFF\u001b[39m\u001b[38;5;124m\"\u001b[39m])\n",
      "File \u001b[1;32m~\\anaconda3\\Lib\\site-packages\\sklearn\\preprocessing\\_data.py:434\u001b[0m, in \u001b[0;36mMinMaxScaler.fit\u001b[1;34m(self, X, y)\u001b[0m\n\u001b[0;32m    432\u001b[0m \u001b[38;5;66;03m# Reset internal state before fitting\u001b[39;00m\n\u001b[0;32m    433\u001b[0m \u001b[38;5;28mself\u001b[39m\u001b[38;5;241m.\u001b[39m_reset()\n\u001b[1;32m--> 434\u001b[0m \u001b[38;5;28;01mreturn\u001b[39;00m \u001b[38;5;28mself\u001b[39m\u001b[38;5;241m.\u001b[39mpartial_fit(X, y)\n",
      "File \u001b[1;32m~\\anaconda3\\Lib\\site-packages\\sklearn\\base.py:1151\u001b[0m, in \u001b[0;36m_fit_context.<locals>.decorator.<locals>.wrapper\u001b[1;34m(estimator, *args, **kwargs)\u001b[0m\n\u001b[0;32m   1144\u001b[0m     estimator\u001b[38;5;241m.\u001b[39m_validate_params()\n\u001b[0;32m   1146\u001b[0m \u001b[38;5;28;01mwith\u001b[39;00m config_context(\n\u001b[0;32m   1147\u001b[0m     skip_parameter_validation\u001b[38;5;241m=\u001b[39m(\n\u001b[0;32m   1148\u001b[0m         prefer_skip_nested_validation \u001b[38;5;129;01mor\u001b[39;00m global_skip_validation\n\u001b[0;32m   1149\u001b[0m     )\n\u001b[0;32m   1150\u001b[0m ):\n\u001b[1;32m-> 1151\u001b[0m     \u001b[38;5;28;01mreturn\u001b[39;00m fit_method(estimator, \u001b[38;5;241m*\u001b[39margs, \u001b[38;5;241m*\u001b[39m\u001b[38;5;241m*\u001b[39mkwargs)\n",
      "File \u001b[1;32m~\\anaconda3\\Lib\\site-packages\\sklearn\\preprocessing\\_data.py:472\u001b[0m, in \u001b[0;36mMinMaxScaler.partial_fit\u001b[1;34m(self, X, y)\u001b[0m\n\u001b[0;32m    466\u001b[0m     \u001b[38;5;28;01mraise\u001b[39;00m \u001b[38;5;167;01mTypeError\u001b[39;00m(\n\u001b[0;32m    467\u001b[0m         \u001b[38;5;124m\"\u001b[39m\u001b[38;5;124mMinMaxScaler does not support sparse input. \u001b[39m\u001b[38;5;124m\"\u001b[39m\n\u001b[0;32m    468\u001b[0m         \u001b[38;5;124m\"\u001b[39m\u001b[38;5;124mConsider using MaxAbsScaler instead.\u001b[39m\u001b[38;5;124m\"\u001b[39m\n\u001b[0;32m    469\u001b[0m     )\n\u001b[0;32m    471\u001b[0m first_pass \u001b[38;5;241m=\u001b[39m \u001b[38;5;129;01mnot\u001b[39;00m \u001b[38;5;28mhasattr\u001b[39m(\u001b[38;5;28mself\u001b[39m, \u001b[38;5;124m\"\u001b[39m\u001b[38;5;124mn_samples_seen_\u001b[39m\u001b[38;5;124m\"\u001b[39m)\n\u001b[1;32m--> 472\u001b[0m X \u001b[38;5;241m=\u001b[39m \u001b[38;5;28mself\u001b[39m\u001b[38;5;241m.\u001b[39m_validate_data(\n\u001b[0;32m    473\u001b[0m     X,\n\u001b[0;32m    474\u001b[0m     reset\u001b[38;5;241m=\u001b[39mfirst_pass,\n\u001b[0;32m    475\u001b[0m     dtype\u001b[38;5;241m=\u001b[39mFLOAT_DTYPES,\n\u001b[0;32m    476\u001b[0m     force_all_finite\u001b[38;5;241m=\u001b[39m\u001b[38;5;124m\"\u001b[39m\u001b[38;5;124mallow-nan\u001b[39m\u001b[38;5;124m\"\u001b[39m,\n\u001b[0;32m    477\u001b[0m )\n\u001b[0;32m    479\u001b[0m data_min \u001b[38;5;241m=\u001b[39m np\u001b[38;5;241m.\u001b[39mnanmin(X, axis\u001b[38;5;241m=\u001b[39m\u001b[38;5;241m0\u001b[39m)\n\u001b[0;32m    480\u001b[0m data_max \u001b[38;5;241m=\u001b[39m np\u001b[38;5;241m.\u001b[39mnanmax(X, axis\u001b[38;5;241m=\u001b[39m\u001b[38;5;241m0\u001b[39m)\n",
      "File \u001b[1;32m~\\anaconda3\\Lib\\site-packages\\sklearn\\base.py:604\u001b[0m, in \u001b[0;36mBaseEstimator._validate_data\u001b[1;34m(self, X, y, reset, validate_separately, cast_to_ndarray, **check_params)\u001b[0m\n\u001b[0;32m    602\u001b[0m         out \u001b[38;5;241m=\u001b[39m X, y\n\u001b[0;32m    603\u001b[0m \u001b[38;5;28;01melif\u001b[39;00m \u001b[38;5;129;01mnot\u001b[39;00m no_val_X \u001b[38;5;129;01mand\u001b[39;00m no_val_y:\n\u001b[1;32m--> 604\u001b[0m     out \u001b[38;5;241m=\u001b[39m check_array(X, input_name\u001b[38;5;241m=\u001b[39m\u001b[38;5;124m\"\u001b[39m\u001b[38;5;124mX\u001b[39m\u001b[38;5;124m\"\u001b[39m, \u001b[38;5;241m*\u001b[39m\u001b[38;5;241m*\u001b[39mcheck_params)\n\u001b[0;32m    605\u001b[0m \u001b[38;5;28;01melif\u001b[39;00m no_val_X \u001b[38;5;129;01mand\u001b[39;00m \u001b[38;5;129;01mnot\u001b[39;00m no_val_y:\n\u001b[0;32m    606\u001b[0m     out \u001b[38;5;241m=\u001b[39m _check_y(y, \u001b[38;5;241m*\u001b[39m\u001b[38;5;241m*\u001b[39mcheck_params)\n",
      "File \u001b[1;32m~\\anaconda3\\Lib\\site-packages\\sklearn\\utils\\validation.py:940\u001b[0m, in \u001b[0;36mcheck_array\u001b[1;34m(array, accept_sparse, accept_large_sparse, dtype, order, copy, force_all_finite, ensure_2d, allow_nd, ensure_min_samples, ensure_min_features, estimator, input_name)\u001b[0m\n\u001b[0;32m    938\u001b[0m     \u001b[38;5;66;03m# If input is 1D raise error\u001b[39;00m\n\u001b[0;32m    939\u001b[0m     \u001b[38;5;28;01mif\u001b[39;00m array\u001b[38;5;241m.\u001b[39mndim \u001b[38;5;241m==\u001b[39m \u001b[38;5;241m1\u001b[39m:\n\u001b[1;32m--> 940\u001b[0m         \u001b[38;5;28;01mraise\u001b[39;00m \u001b[38;5;167;01mValueError\u001b[39;00m(\n\u001b[0;32m    941\u001b[0m             \u001b[38;5;124m\"\u001b[39m\u001b[38;5;124mExpected 2D array, got 1D array instead:\u001b[39m\u001b[38;5;130;01m\\n\u001b[39;00m\u001b[38;5;124marray=\u001b[39m\u001b[38;5;132;01m{}\u001b[39;00m\u001b[38;5;124m.\u001b[39m\u001b[38;5;130;01m\\n\u001b[39;00m\u001b[38;5;124m\"\u001b[39m\n\u001b[0;32m    942\u001b[0m             \u001b[38;5;124m\"\u001b[39m\u001b[38;5;124mReshape your data either using array.reshape(-1, 1) if \u001b[39m\u001b[38;5;124m\"\u001b[39m\n\u001b[0;32m    943\u001b[0m             \u001b[38;5;124m\"\u001b[39m\u001b[38;5;124myour data has a single feature or array.reshape(1, -1) \u001b[39m\u001b[38;5;124m\"\u001b[39m\n\u001b[0;32m    944\u001b[0m             \u001b[38;5;124m\"\u001b[39m\u001b[38;5;124mif it contains a single sample.\u001b[39m\u001b[38;5;124m\"\u001b[39m\u001b[38;5;241m.\u001b[39mformat(array)\n\u001b[0;32m    945\u001b[0m         )\n\u001b[0;32m    947\u001b[0m \u001b[38;5;28;01mif\u001b[39;00m dtype_numeric \u001b[38;5;129;01mand\u001b[39;00m \u001b[38;5;28mhasattr\u001b[39m(array\u001b[38;5;241m.\u001b[39mdtype, \u001b[38;5;124m\"\u001b[39m\u001b[38;5;124mkind\u001b[39m\u001b[38;5;124m\"\u001b[39m) \u001b[38;5;129;01mand\u001b[39;00m array\u001b[38;5;241m.\u001b[39mdtype\u001b[38;5;241m.\u001b[39mkind \u001b[38;5;129;01min\u001b[39;00m \u001b[38;5;124m\"\u001b[39m\u001b[38;5;124mUSV\u001b[39m\u001b[38;5;124m\"\u001b[39m:\n\u001b[0;32m    948\u001b[0m     \u001b[38;5;28;01mraise\u001b[39;00m \u001b[38;5;167;01mValueError\u001b[39;00m(\n\u001b[0;32m    949\u001b[0m         \u001b[38;5;124m\"\u001b[39m\u001b[38;5;124mdtype=\u001b[39m\u001b[38;5;124m'\u001b[39m\u001b[38;5;124mnumeric\u001b[39m\u001b[38;5;124m'\u001b[39m\u001b[38;5;124m is not compatible with arrays of bytes/strings.\u001b[39m\u001b[38;5;124m\"\u001b[39m\n\u001b[0;32m    950\u001b[0m         \u001b[38;5;124m\"\u001b[39m\u001b[38;5;124mConvert your data to numeric values explicitly instead.\u001b[39m\u001b[38;5;124m\"\u001b[39m\n\u001b[0;32m    951\u001b[0m     )\n",
      "\u001b[1;31mValueError\u001b[0m: Expected 2D array, got 1D array instead:\narray=[0. 0. 0. ... 0. 0. 0.].\nReshape your data either using array.reshape(-1, 1) if your data has a single feature or array.reshape(1, -1) if it contains a single sample."
     ]
    }
   ],
   "source": [
    "df_train_x = pd.read_csv(\"../data/splitted/Fraud_Detection_train_features.csv\")\n",
    "df_train_y = pd.read_csv(\"../data/splitted/Fraud_Detection_train_target.csv\")\n",
    "df_val_x = pd.read_csv(\"../data/splitted/Fraud_Detection_validation_features.csv\")\n",
    "df_val_y = pd.read_csv(\"../data/splitted/Fraud_Detection_validation_target.csv\")\n",
    "\n",
    "#다루기 쉽게 하기 위해 IS_FRAUD를 int형으로 변경\n",
    "df_train_y = df_train_y.astype(\"int\")\n",
    "df_val_y = df_val_y.astype(\"int\")\n",
    "\n",
    "df_train = pd.concat([df_train_x, df_train_y], axis=1)\n",
    "\n",
    "df_train\n",
    "\n",
    "model_result = FraudModel(data=df_train, isLearn=True, alpha=7, beta=7, gamma=7, delta1=0.5, delta2=0.5, omega=6, epsilon=5, mu=2)"
   ]
  }
 ],
 "metadata": {
  "kernelspec": {
   "display_name": "Python 3 (ipykernel)",
   "language": "python",
   "name": "python3"
  },
  "language_info": {
   "codemirror_mode": {
    "name": "ipython",
    "version": 3
   },
   "file_extension": ".py",
   "mimetype": "text/x-python",
   "name": "python",
   "nbconvert_exporter": "python",
   "pygments_lexer": "ipython3",
   "version": "3.11.4"
  }
 },
 "nbformat": 4,
 "nbformat_minor": 5
}
