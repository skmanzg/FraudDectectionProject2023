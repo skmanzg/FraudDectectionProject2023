{
 "cells": [
  {
   "cell_type": "code",
   "execution_count": 2,
   "id": "db57fe1a",
   "metadata": {},
   "outputs": [],
   "source": [
    "import pandas as pd\n",
    "import numpy as np\n",
    "from sklearn.neighbors import KNeighborsClassifier\n",
    "from sklearn.preprocessing import MinMaxScaler\n",
    "from tensorflow import keras"
   ]
  },
  {
   "cell_type": "code",
   "execution_count": 1,
   "id": "bdccfd4f",
   "metadata": {},
   "outputs": [],
   "source": [
    "def ColumnsExtractor_CNN(data):\n",
    "    reduced_data = pd.read_csv(\"../data/ordered_by_ccnum_and_day.csv\") #data_analysis.ipynb에서 생성하세요\n",
    "    reduced_data = data[data[\"CC_NUM\", \"DAY\", \"AMT\", \"IS_FRAUD\"]]\n",
    "    reduced_data = reduced_data[\"IS_FRAUD\"].astype(\"int\")\n",
    "    return reduced_data"
   ]
  },
  {
   "cell_type": "code",
   "execution_count": 4,
   "id": "8337eb67",
   "metadata": {},
   "outputs": [],
   "source": [
    "def TableConverter(reduced_data, gamma):\n",
    "    #reduced_data는 데이터프레임이다\n",
    "    #입력DF의 행은 4개의 열을 가졌고 하나의 행은 하나의 거래이다. (CC_NUM이 아니다)\n",
    "    #출력DF의 행은 하나의 CC_NUM에 대한 정보이고 열은 CC_NUM, DAY1, DAY2, ..., FRAUD_TODAY1, FRAUD_TODAY2, ... 형식이다\n",
    "    #DAY1, DAY2, ... 열에는 각 DAY의 AMT가 들어간다\n",
    "    df_ccnum = pd.DataFrame(reduced_data[\"CC_NUM\"].unique(), columns=[\"CC_NUM\"])\n",
    "    df_amt = np.full((df_ccnum.shape[0], reduced_data[\"CC_NUM\"].value_counts().max()), -1) # -1로 채워진 array (밑에 df로 변환하게 됨)\n",
    "    list_daycount = []\n",
    "    for i in range(reduced_data[\"CC_NUM\"].value_counts().max()):\n",
    "        list_daycount.append(\"DAY%d\" %(i+1))\n",
    "    \n",
    "    df_amt = pd.DataFrame(df_amt, columns=list_daycount)\n",
    "    \n",
    "    #df_fraudtoday는 열의 갯수가 df_amt의 열의 갯수에서 (gamma - 1)값을 뺀 것이다\n",
    "    df_fraudtoday = np.full((df_ccnum.shape[0], len(list_daycount) - (gamma - 1)), -1)\n",
    "    list_fraudtodaycount = []\n",
    "    for i in range(df.fraudtoday.shape[1]):\n",
    "        list_daycount.append(\"FRAUD_TODAY%d\" %(i+1))\n",
    "        \n",
    "    df_fraudtoday = pd.DataFrame(df_fraudtoday, columns=list_fraudtodaycount)\n",
    "    \n",
    "    #여기까지 오면 df 틀은 완성이다. 단 CC_NUM컬럼은 이미 값이 채워져 있는 상태\n",
    "    df_amtarray = (reduced_data[\"AMT\"].to_frame()).T #CC_NUM과 DAY순으로 정렬된 AMT들이 한 행으로 쭉 정렬된 모습\n",
    "    \n",
    "    idx_count = 0 #CC_NUM의 인덱스를 가리킨다\n",
    "    num_count = 1 #DAY1, DAY2, ...를 가리킨다\n",
    "    \n",
    "    for i in range(reduced_data.shape[0]):\n",
    "        ccnum_unique_list = (reduced_data[\"CC_NUM\"].unique()).tolist() #idx_count로 요소 접근\n",
    "        #ccnum_unique_list는 CC_NUM의 종류가 정렬되어 나열된 리스트이다.\n",
    "        \n",
    "        if(ccnum_unique_list[idx_count] != reduced_data.loc[i, \"CC_NUM\"]):\n",
    "            idx_count += 1\n",
    "            num_count = 1\n",
    "        \n",
    "        df_amt.loc[idx_count, \"DAY%d\" %(num_count)] = reduced_data.loc[i, \"AMT\"]\n",
    "        num_count += 1\n",
    "        \n",
    "    #여기까지 오면 df_ccnum과 df_amt가 채워졌다.\n",
    "    \n",
    "    ccnum_fraud = reduced_data[reduced_data[\"CC_NUM\", \"IS_FRAUD\"]]\n",
    "    current_ccnum = ccnum_fraud.loc[gamma - 1, \"CC_NUM\"]\n",
    "    \n",
    "    df_fraudtoday_row = 0\n",
    "    df_fraudtoday_col = 0\n",
    "    \n",
    "    for ccnum_fraud_row in range(gamma - 1,ccnum_fraud.shape[0]):\n",
    "        if(ccnum_fraud.loc[ccnum_fraud_row, \"CC_NUM\"]!=current_ccnum): #for문을 반복하게되면 현재 CC_NUM을 직전 CC_NUM과 비교한다\n",
    "            df_fraudtoday_row += 1\n",
    "            df_fraudtoday_col = 0\n",
    "        df_fraudtoday.loc[df_fraudtoday_row, \"FRAUD_TODAY%d\" %(df_fraudtoday_col+1)] = ccnum_fraud.loc[ccnum_fraud_row, \"IS_FRAUD\"]\n",
    "        df_fraudtoday_col += 1\n",
    "        current_ccnum = ccnum_fraud.loc[ccnum_fraud_row, \"CC_NUM\"] # 현재 CC_NUM을 current_ccnum에 대입(for문 다시 돌아가면 ccnum_fraud_row는 1이 더해짐)\n",
    "        \n",
    "    data_converted = pd.concat([df_ccnum, df_amt, df_fraudtoday], axis = 0)\n",
    "    return data_converted\n"
   ]
  },
  {
   "cell_type": "code",
   "execution_count": 3,
   "id": "2a8c48c6",
   "metadata": {},
   "outputs": [],
   "source": [
    "def DifferenceforFraud(data, isLearn, gamma, delta2, omega, mu):\n",
    "    pass\n",
    "#미완성"
   ]
  }
 ],
 "metadata": {
  "kernelspec": {
   "display_name": "Python 3 (ipykernel)",
   "language": "python",
   "name": "python3"
  },
  "language_info": {
   "codemirror_mode": {
    "name": "ipython",
    "version": 3
   },
   "file_extension": ".py",
   "mimetype": "text/x-python",
   "name": "python",
   "nbconvert_exporter": "python",
   "pygments_lexer": "ipython3",
   "version": "3.11.4"
  }
 },
 "nbformat": 4,
 "nbformat_minor": 5
}
